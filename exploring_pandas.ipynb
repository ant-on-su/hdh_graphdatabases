{
    "cells": [
        {
            "cell_type": "markdown",
            "metadata": {},
            "source": [
                "Now let's load our data into memory and get a peek at it."
            ]
        },
        {
            "cell_type": "code",
            "execution_count": null,
            "metadata": {},
            "outputs": [],
            "source": [
                "import pandas as pd\n",
                "df = pd.read_csv('2021.csv')\n",
                "df"
            ]
        },
        {
            "cell_type": "markdown",
            "metadata": {},
            "source": [
                "The column called target is, predicably, the target we're trying to predict.  It's a boolean that is true if the filing firm's stake in a company increased in the next filing period.  A filing period is one quarter."
            ]
        },
        {
            "cell_type": "code",
            "execution_count": null,
            "metadata": {},
            "outputs": [],
            "source": [
                "df['target'].describe()"
            ]
        },
        {
            "cell_type": "markdown",
            "metadata": {},
            "source": [
                "Take a look at the number of rows total.  Compare that to the most frequent value in the target column.  That will tell you how balanced the dataset is.  Is it balanced?  That determines if we can use standard machine learning techniques or if we need to us special methods like boosting that can cope with imbalanced data."
            ]
        }
    ],
    "metadata": {
        "colab": {
            "name": "exploring_pandas.ipynb",
            "toc_visible": true
        },
        "kernelspec": {
            "display_name": "Python 3",
            "language": "python",
            "name": "python3"
        },
        "language_info": {
            "codemirror_mode": {
                "name": "ipython",
                "version": 3
            },
            "file_extension": ".py",
            "mimetype": "text/x-python",
            "name": "python",
            "nbconvert_exporter": "python",
            "pygments_lexer": "ipython3",
            "version": "3.9.13"
        },
        "vscode": {
            "interpreter": {
                "hash": "31f2aee4e71d21fbe5cf8b01ff0e069b9275f58929596ceb00d14d90e3e16cd6"
            }
        }
    },
    "nbformat": 4,
    "nbformat_minor": 0
}
